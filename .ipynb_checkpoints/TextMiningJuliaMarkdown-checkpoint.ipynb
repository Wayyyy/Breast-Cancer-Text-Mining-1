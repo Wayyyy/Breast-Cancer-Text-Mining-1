{
 "cells": [
  {
   "cell_type": "markdown",
   "metadata": {},
   "source": [
    "# Breast Cancer Text Mining Julia \n",
    "\n",
    "## Introduction\n",
    "Breast cancer is the most common type of cancer diagnosed among women and is the second leading cause of cancer death. 3\n",
    "Approximately 252,710 new cases of invasive breast cancer and 63,410 cases of in situ breast carcinoma were expected to be diagnosed among US women in 2017, and 40,610 women are expected to die from this disease alone.3 Overall, breast cancer mortality rates have decreased by 39%...\n",
    "\n",
    "## Load Packages and Custom Function"
   ]
  },
  {
   "cell_type": "code",
   "execution_count": 53,
   "metadata": {
    "scrolled": true
   },
   "outputs": [
    {
     "data": {
      "text/plain": [
       "fetchBreastCancerArticles (generic function with 6 methods)"
      ]
     },
     "execution_count": 53,
     "metadata": {},
     "output_type": "execute_result"
    }
   ],
   "source": [
    "# add all packages here\n",
    "using DataFrames\n",
    "\n",
    "# Add all custom functions here\n",
    "include(\"fetch-articles.jl\")\n"
   ]
  },
  {
   "cell_type": "markdown",
   "metadata": {},
   "source": [
    "## Analysis\n",
    "Text mining can be used to discover these knowledge patterns or hypotheses in helping to solve biomedical questions. We will perform 3 analysis i.e on treatment, diagnosis and prevention"
   ]
  },
  {
   "cell_type": "markdown",
   "metadata": {},
   "source": [
    "### Diagnosis\n",
    "Starting by creating a dataframe of diagnosis metadata for the year 2000 to  2018"
   ]
  },
  {
   "cell_type": "code",
   "execution_count": 54,
   "metadata": {
    "scrolled": true
   },
   "outputs": [
    {
     "name": "stdout",
     "output_type": "stream",
     "text": [
      " 19.650679 seconds (392.93 k allocations: 54.233 MiB, 0.45% gc time)\n"
     ]
    },
    {
     "data": {
      "text/html": [
       "<table class=\"data-frame\"><thead><tr><th></th><th>pmid</th><th>title</th><th>date_created</th><th>main_abstract</th></tr></thead><tbody><tr><th>1</th><td>29491085</td><td>The Prognostic Significance of Hsp70/Hsp90 Expression in Breast Cancer: A</td><td>2018/03/02 06:00</td><td>BACKGROUND/AIM: Studies have focused on heat shock protein (Hsp) inhibitors as</td></tr><tr><th>2</th><td>29414804</td><td>MicroRNA-223 Targeting STIM1 Inhibits the Biological Behavior of Breast Cancer.</td><td>2018/02/08 06:00</td><td>BACKGROUND/AIMS: To investigate the cellular effects and clinical significance of</td></tr><tr><th>3</th><td>29414799</td><td>Berberine Suppresses Cell Motility Through Downregulation of TGF-beta1 in Triple </td><td>2018/02/08 06:00</td><td>BACKGROUND/AIMS: Transforming growth factor-beta proteins (TGF-betas) are</td></tr><tr><th>4</th><td>29407962</td><td>Discovery of novel mifepristone derivatives via suppressing KLF5 expression for</td><td>2018/02/07 06:00</td><td>Triple-negative breast cancer (TNBC) is one of the most malignant breast cancers </td></tr><tr><th>5</th><td>29390317</td><td>Comparison of rigid and deformable registration through the respiratory phases of</td><td>2018/02/03 06:00</td><td>BACKGROUND: The aim of this study was to compare the geometric differences in</td></tr><tr><th>6</th><td>29335206</td><td>Synthesis and biological evaluation of 4-amino-5-cinnamoylthiazoles as</td><td>2018/01/17 06:00</td><td>A series of 4-amino-5-cinnamoylthiazoles 3a-p were designed and synthesized as</td></tr><tr><th>7</th><td>29205077</td><td>Forty years of landmark trials undertaken by the Danish Breast Cancer Cooperative</td><td>2017/12/06 06:00</td><td>BACKGROUND: Over the past 40 years the Danish Breast Cancer Cooperative Group</td></tr><tr><th>8</th><td>29202630</td><td>Concurrent new drug prescriptions and prognosis of early breast cancer: studies</td><td>2017/12/06 06:00</td><td>BACKGROUND: Myriad reports suggest that frequently used prescription drugs alter </td></tr><tr><th>9</th><td>29202611</td><td>Aurora kinase A as a possible marker for endocrine resistance in early estrogen</td><td>2017/12/06 06:00</td><td>BACKGROUND: Cell culture studies have disclosed that the mitotic Aurora kinase A </td></tr><tr><th>10</th><td>29202609</td><td>The ability of PAM50 risk of recurrence score to predict 10-year distant</td><td>2017/12/06 06:00</td><td>INTRODUCTION: The Prosigna-PAM50 risk of recurrence (ROR) score has been</td></tr><tr><th>11</th><td>29168407</td><td>Mortality and recurrence rates among systemically untreated high risk breast</td><td>2017/11/24 06:00</td><td>BACKGROUND: Following loco-regional treatment for early breast cancer accurate</td></tr><tr><th>12</th><td>29164974</td><td>Clinical and molecular characterization of BRCA-associated breast cancer: results</td><td>2017/11/23 06:00</td><td>BACKGROUND: In breast cancer (BC) patients a cancer predisposing BRCA1/2 mutation</td></tr><tr><th>13</th><td>29164972</td><td>Molecular subtyping of breast cancer improves identification of both high and low</td><td>2017/11/23 06:00</td><td>BACKGROUND: Transcriptome analysis enables classification of breast tumors into</td></tr><tr><th>14</th><td>29146401</td><td>Neratinib after trastuzumab-based adjuvant therapy in HER2-positive breast cancer</td><td>2017/11/18 06:00</td><td>BACKGROUND: ExteNET showed that 1 year of neratinib, an irreversible pan-HER</td></tr><tr><th>15</th><td>29142182</td><td>A Real-World Retrospective Cohort Study of Combined Therapy with Bevacizumab and </td><td>2017/11/17 06:00</td><td>OBJECTIVE: Combined therapy with bevacizumab and paclitaxel (BP regimen) as a</td></tr><tr><th>16</th><td>29141352</td><td>[Overdiagnosis in mammography screening for breast cancer].</td><td>2017/11/17 06:00</td><td>Screening has been always considered as a double-edged sword. Cancer screening</td></tr><tr><th>17</th><td>29131529</td><td>Clinicopathological characteristics and survival outcomes in pleomorphic lobular </td><td>2017/11/14 06:00</td><td>The purpose of this study was to explore the clinicopathological features and</td></tr><tr><th>18</th><td>29109121</td><td>Glycogen Synthase Kinase-3 Modulates Cbl-b and Constrains T Cell Activation.</td><td>2017/11/08 06:00</td><td>The decision between T cell activation and tolerance is governed by the spatial</td></tr><tr><th>19</th><td>29100193</td><td>Phase II, multicentre, randomised trial of eribulin plus gemcitabine versus</td><td>2017/11/04 06:00</td><td>BACKGROUND: Paclitaxel plus gemcitabine (PG) combination chemotherapy is a</td></tr><tr><th>20</th><td>29096156</td><td>Recurrence dynamics of breast cancer according to baseline body mass index.</td><td>2017/11/03 06:00</td><td>BACKGROUND: In cancer follow-up, in addition to the evaluation of survival</td></tr><tr><th>21</th><td>29096155</td><td>The use of sentinel lymph node biopsy in the treatment of breast ductal carcinoma</td><td>2017/11/03 06:00</td><td>OBJECTIVES: The risk of axillary metastases in breast cancer patients with only</td></tr><tr><th>22</th><td>29095832</td><td>Multi-center study on patient selection for and the oncologic safety of</td><td>2017/11/03 06:00</td><td>BACKGROUND: In this multi-center study, we report the patient selection criteria </td></tr><tr><th>23</th><td>29055841</td><td>Response rate as a potential surrogate for survival and efficacy in patients</td><td>2017/10/23 06:00</td><td>INTRODUCTION: To assess the role of the tumour response rate (RR) after immune</td></tr><tr><th>24</th><td>29049205</td><td>Using a novel T-lymph node ratio model to evaluate the prognosis of nonmetastatic</td><td>2017/10/20 06:00</td><td>We aimed to investigate the prognostic value of postpathological characters in</td></tr><tr><th>25</th><td>28985233</td><td>Frequency of breast cancer with hereditary risk features in Spain: Analysis from </td><td>2017/10/07 06:00</td><td>PURPOSE: To determine the frequency of breast cancer (BC) patients with</td></tr><tr><th>26</th><td>28980454</td><td>Incidence, risk factors, and outcomes of central venous catheter-related</td><td>2017/10/06 06:00</td><td>Previous epidemiologic studies investigating central venous catheter</td></tr><tr><th>27</th><td>28972651</td><td>Breast cancer statistics, 2017, racial disparity in mortality by state.</td><td>2017/10/04 06:00</td><td>In this article, the American Cancer Society provides an overview of female</td></tr><tr><th>28</th><td>28964442</td><td>Evaluation of a Stratified National Breast Screening Program in the United</td><td>2017/10/02 06:00</td><td>OBJECTIVES: To identify the incremental costs and consequences of stratified</td></tr><tr><th>29</th><td>28943434</td><td>The role and clinical significance of the CXCL17-CXCR8 (GPR35) axis in breast</td><td>2017/09/26 06:00</td><td>BACKGROUND: Chemokine (C-X-C motif) ligand 17 (CXCL17) is the latest member of</td></tr><tr><th>30</th><td>28923573</td><td>Neoadjuvant buparlisib plus trastuzumab and paclitaxel for women with HER2+</td><td>2017/09/20 06:00</td><td>AIM: The Neoadjuvant PI3K inhibition in HER2 OverExpressing Breast cancEr</td></tr><tr><th>&vellip;</th><td>&vellip;</td><td>&vellip;</td><td>&vellip;</td><td>&vellip;</td></tr></tbody></table>"
      ],
      "text/plain": [
       "1000×4 DataFrames.DataFrame\n",
       "│ Row  │ pmid       │\n",
       "├──────┼────────────┤\n",
       "│ 1    │ \"29491085\" │\n",
       "│ 2    │ \"29414804\" │\n",
       "│ 3    │ \"29414799\" │\n",
       "│ 4    │ \"29407962\" │\n",
       "│ 5    │ \"29390317\" │\n",
       "│ 6    │ \"29335206\" │\n",
       "│ 7    │ \"29205077\" │\n",
       "│ 8    │ \"29202630\" │\n",
       "│ 9    │ \"29202611\" │\n",
       "│ 10   │ \"29202609\" │\n",
       "│ 11   │ \"29168407\" │\n",
       "⋮\n",
       "│ 989  │ \"24816206\" │\n",
       "│ 990  │ \"24803582\" │\n",
       "│ 991  │ \"24794952\" │\n",
       "│ 992  │ \"24781973\" │\n",
       "│ 993  │ \"24775119\" │\n",
       "│ 994  │ \"24768477\" │\n",
       "│ 995  │ \"24766915\" │\n",
       "│ 996  │ \"24755770\" │\n",
       "│ 997  │ \"24755492\" │\n",
       "│ 998  │ \"24733796\" │\n",
       "│ 999  │ \"24731492\" │\n",
       "│ 1000 │ \"24731491\" │\n",
       "\n",
       "│ Row  │ title                                                                               │\n",
       "├──────┼─────────────────────────────────────────────────────────────────────────────────────┤\n",
       "│ 1    │ \"The Prognostic Significance of Hsp70/Hsp90 Expression in Breast Cancer: A\"         │\n",
       "│ 2    │ \"MicroRNA-223 Targeting STIM1 Inhibits the Biological Behavior of Breast Cancer.\"   │\n",
       "│ 3    │ \"Berberine Suppresses Cell Motility Through Downregulation of TGF-beta1 in Triple \" │\n",
       "│ 4    │ \"Discovery of novel mifepristone derivatives via suppressing KLF5 expression for\"   │\n",
       "│ 5    │ \"Comparison of rigid and deformable registration through the respiratory phases of\" │\n",
       "│ 6    │ \"Synthesis and biological evaluation of 4-amino-5-cinnamoylthiazoles as\"            │\n",
       "│ 7    │ \"Forty years of landmark trials undertaken by the Danish Breast Cancer Cooperative\" │\n",
       "│ 8    │ \"Concurrent new drug prescriptions and prognosis of early breast cancer: studies\"   │\n",
       "│ 9    │ \"Aurora kinase A as a possible marker for endocrine resistance in early estrogen\"   │\n",
       "│ 10   │ \"The ability of PAM50 risk of recurrence score to predict 10-year distant\"          │\n",
       "│ 11   │ \"Mortality and recurrence rates among systemically untreated high risk breast\"      │\n",
       "⋮\n",
       "│ 989  │ \"Mammographic density phenotypes and risk of breast cancer: a meta-analysis.\"       │\n",
       "│ 990  │ \"TP53 mutation spectrum in breast cancer is subtype specific and has distinct\"      │\n",
       "│ 991  │ \"Assessment of the Ki67 labeling index: a Japanese validation ring study.\"          │\n",
       "│ 992  │ \"The endoplasmic reticulum stress markers GRP78 and CHOP predict disease-free\"      │\n",
       "│ 993  │ \"Nipple-sparing mastectomy with implant reconstruction: the Westmead experience.\"   │\n",
       "│ 994  │ \"Prognostic, predictive abilities and concordance of BCL2 and TP53 protein\"         │\n",
       "│ 995  │ \"Round block technique is a useful oncoplastic procedure for multicentric\"          │\n",
       "│ 996  │ \"Homogenous 96-plex PEA immunoassay exhibiting high sensitivity, specificity, and \" │\n",
       "│ 997  │ \"Risk factors for ovarian cancers with and without microsatellite instability.\"     │\n",
       "│ 998  │ \"Phase IIa trial of trastuzumab emtansine with pertuzumab for patients with human \" │\n",
       "│ 999  │ \"[Clinical observations of ductal carcinoma in situ and early stage breast cancer \" │\n",
       "│ 1000 │ \"[Prediction value for dynamic changes of circulating tumor cell in therapeutic\"    │\n",
       "\n",
       "│ Row  │ date_created       │\n",
       "├──────┼────────────────────┤\n",
       "│ 1    │ \"2018/03/02 06:00\" │\n",
       "│ 2    │ \"2018/02/08 06:00\" │\n",
       "│ 3    │ \"2018/02/08 06:00\" │\n",
       "│ 4    │ \"2018/02/07 06:00\" │\n",
       "│ 5    │ \"2018/02/03 06:00\" │\n",
       "│ 6    │ \"2018/01/17 06:00\" │\n",
       "│ 7    │ \"2017/12/06 06:00\" │\n",
       "│ 8    │ \"2017/12/06 06:00\" │\n",
       "│ 9    │ \"2017/12/06 06:00\" │\n",
       "│ 10   │ \"2017/12/06 06:00\" │\n",
       "│ 11   │ \"2017/11/24 06:00\" │\n",
       "⋮\n",
       "│ 989  │ \"2014/05/13 06:00\" │\n",
       "│ 990  │ \"2014/05/08 06:00\" │\n",
       "│ 991  │ \"2014/05/06 06:00\" │\n",
       "│ 992  │ \"2014/05/01 06:00\" │\n",
       "│ 993  │ \"2014/04/30 06:00\" │\n",
       "│ 994  │ \"2014/04/29 06:00\" │\n",
       "│ 995  │ \"2014/04/29 06:00\" │\n",
       "│ 996  │ \"2014/04/24 06:00\" │\n",
       "│ 997  │ \"2014/04/24 06:00\" │\n",
       "│ 998  │ \"2014/04/16 06:00\" │\n",
       "│ 999  │ \"2014/04/16 06:00\" │\n",
       "│ 1000 │ \"2014/04/16 06:00\" │\n",
       "\n",
       "│ Row  │ main_abstract                                                                       │\n",
       "├──────┼─────────────────────────────────────────────────────────────────────────────────────┤\n",
       "│ 1    │ \"BACKGROUND/AIM: Studies have focused on heat shock protein (Hsp) inhibitors as\"    │\n",
       "│ 2    │ \"BACKGROUND/AIMS: To investigate the cellular effects and clinical significance of\" │\n",
       "│ 3    │ \"BACKGROUND/AIMS: Transforming growth factor-beta proteins (TGF-betas) are\"         │\n",
       "│ 4    │ \"Triple-negative breast cancer (TNBC) is one of the most malignant breast cancers \" │\n",
       "│ 5    │ \"BACKGROUND: The aim of this study was to compare the geometric differences in\"     │\n",
       "│ 6    │ \"A series of 4-amino-5-cinnamoylthiazoles 3a-p were designed and synthesized as\"    │\n",
       "│ 7    │ \"BACKGROUND: Over the past 40 years the Danish Breast Cancer Cooperative Group\"     │\n",
       "│ 8    │ \"BACKGROUND: Myriad reports suggest that frequently used prescription drugs alter \" │\n",
       "│ 9    │ \"BACKGROUND: Cell culture studies have disclosed that the mitotic Aurora kinase A \" │\n",
       "│ 10   │ \"INTRODUCTION: The Prosigna-PAM50 risk of recurrence (ROR) score has been\"          │\n",
       "│ 11   │ \"BACKGROUND: Following loco-regional treatment for early breast cancer accurate\"    │\n",
       "⋮\n",
       "│ 989  │ \"BACKGROUND: Fibroglandular breast tissue appears dense on mammogram, whereas fat \" │\n",
       "│ 990  │ \"PURPOSE: In breast cancer, the TP53 gene is frequently mutated and the mutations \" │\n",
       "│ 991  │ \"BACKGROUND: A lack of consistent methods to evaluate Ki67 expression is\"           │\n",
       "│ 992  │ \"Glucose-regulated protein (GRP) 78 and C/-EBP homologous protein (CHOP) are\"       │\n",
       "│ 993  │ \"BACKGROUND: Nipple-sparing mastectomy (NSM) involves the removal of all breast\"    │\n",
       "│ 994  │ \"Given recent data on genetic heterogeneity within and individual's tumor, we\"      │\n",
       "│ 995  │ \"PURPOSE: Multicentric fibroadenomas, defined as multiple fibroadenomas located at\" │\n",
       "│ 996  │ \"Medical research is developing an ever greater need for comprehensive\"             │\n",
       "│ 997  │ \"OBJECTIVE: In a population-based sample of epithelial ovarian cancers, the\"        │\n",
       "│ 998  │ \"PURPOSE: Our phase IIa study characterized the safety and efficacy of two human\"   │\n",
       "│ 999  │ \"OBJECTIVE: To explore the clinical characteristics and prognosis of ductal\"        │\n",
       "│ 1000 │ \"OBJECTIVE: To explore the prediction value for dynamic changes of circulating\"     │"
      ]
     },
     "execution_count": 54,
     "metadata": {},
     "output_type": "execute_result"
    }
   ],
   "source": [
    "# diagnosis for the year 2000 to  2018 (limit is 1000 for now)\n",
    "diagnosis_metadata_df= @time fetchBreastCancerArticles(\"breast cancer\", \"diagnosis\",2000,2018)"
   ]
  },
  {
   "cell_type": "markdown",
   "metadata": {},
   "source": [
    "Save the dataframe of diagnosis into csv for future use"
   ]
  },
  {
   "cell_type": "code",
   "execution_count": 57,
   "metadata": {},
   "outputs": [],
   "source": [
    "# savedf into csv\n",
    "output_file = open(\"output/diagnosis.csv\", \"w\")\n",
    "close(output_file)\n",
    "writetable(\"output/diagnosis.csv\",diagnosis_metadata_df)\n"
   ]
  },
  {
   "cell_type": "markdown",
   "metadata": {},
   "source": [
    "### Treatment"
   ]
  },
  {
   "cell_type": "code",
   "execution_count": 36,
   "metadata": {},
   "outputs": [
    {
     "data": {
      "text/html": [
       "<table class=\"data-frame\"><thead><tr><th></th><th>pmid</th><th>title</th></tr></thead><tbody></tbody></table>"
      ],
      "text/plain": [
       "0×2 DataFrames.DataFrame\n"
      ]
     },
     "execution_count": 36,
     "metadata": {},
     "output_type": "execute_result"
    }
   ],
   "source": [
    "# Treatment\n",
    "treatment_metadata_df=fetchBreastCancerArticles(\"breast cancer\", \"treatment\",2000,2018)"
   ]
  }
 ],
 "metadata": {
  "kernelspec": {
   "display_name": "Julia 0.6.2",
   "language": "julia",
   "name": "julia-0.6"
  },
  "language_info": {
   "file_extension": ".jl",
   "mimetype": "application/julia",
   "name": "julia",
   "version": "0.6.2"
  }
 },
 "nbformat": 4,
 "nbformat_minor": 2
}
