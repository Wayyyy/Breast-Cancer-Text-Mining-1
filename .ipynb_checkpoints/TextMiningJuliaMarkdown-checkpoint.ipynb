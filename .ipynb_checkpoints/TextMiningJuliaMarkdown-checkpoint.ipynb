{
 "cells": [
  {
   "cell_type": "markdown",
   "metadata": {},
   "source": [
    "# Breast Cancer Text Mining Julia \n",
    "\n",
    "## Introduction\n",
    "Breast cancer is the most common type of cancer diagnosed among women and is the second leading cause of cancer death. 3\n",
    "Approximately 252,710 new cases of invasive breast cancer and 63,410 cases of in situ breast carcinoma were expected to be diagnosed among US women in 2017, and 40,610 women are expected to die from this disease alone.3 Overall, breast cancer mortality rates have decreased by 39%...\n",
    "\n",
    "## Load Packages and Custom Function"
   ]
  },
  {
   "cell_type": "code",
   "execution_count": 37,
   "metadata": {
    "scrolled": true
   },
   "outputs": [
    {
     "name": "stdout",
     "output_type": "stream",
     "text": [
      "pmid_array: 1000\n",
      "title_array: 1000\n",
      "abstract_array: 982\n",
      "date_created_array: 1000\n"
     ]
    },
    {
     "data": {
      "text/html": [
       "<table class=\"data-frame\"><thead><tr><th></th><th>pmid</th><th>title</th><th>date_created</th></tr></thead><tbody><tr><th>1</th><td>29491085</td><td>The Prognostic Significance of Hsp70/Hsp90 Expression in Breast Cancer: A</td><td>2018/03/02 06:00</td></tr><tr><th>2</th><td>29414804</td><td>MicroRNA-223 Targeting STIM1 Inhibits the Biological Behavior of Breast Cancer.</td><td>2018/02/08 06:00</td></tr><tr><th>3</th><td>29414799</td><td>Berberine Suppresses Cell Motility Through Downregulation of TGF-beta1 in Triple </td><td>2018/02/08 06:00</td></tr><tr><th>4</th><td>29407962</td><td>Discovery of novel mifepristone derivatives via suppressing KLF5 expression for</td><td>2018/02/07 06:00</td></tr><tr><th>5</th><td>29390317</td><td>Comparison of rigid and deformable registration through the respiratory phases of</td><td>2018/02/03 06:00</td></tr><tr><th>6</th><td>29335206</td><td>Synthesis and biological evaluation of 4-amino-5-cinnamoylthiazoles as</td><td>2018/01/17 06:00</td></tr><tr><th>7</th><td>29205077</td><td>Forty years of landmark trials undertaken by the Danish Breast Cancer Cooperative</td><td>2017/12/06 06:00</td></tr><tr><th>8</th><td>29202630</td><td>Concurrent new drug prescriptions and prognosis of early breast cancer: studies</td><td>2017/12/06 06:00</td></tr><tr><th>9</th><td>29202611</td><td>Aurora kinase A as a possible marker for endocrine resistance in early estrogen</td><td>2017/12/06 06:00</td></tr><tr><th>10</th><td>29202609</td><td>The ability of PAM50 risk of recurrence score to predict 10-year distant</td><td>2017/12/06 06:00</td></tr><tr><th>11</th><td>29168407</td><td>Mortality and recurrence rates among systemically untreated high risk breast</td><td>2017/11/24 06:00</td></tr><tr><th>12</th><td>29164974</td><td>Clinical and molecular characterization of BRCA-associated breast cancer: results</td><td>2017/11/23 06:00</td></tr><tr><th>13</th><td>29164972</td><td>Molecular subtyping of breast cancer improves identification of both high and low</td><td>2017/11/23 06:00</td></tr><tr><th>14</th><td>29146401</td><td>Neratinib after trastuzumab-based adjuvant therapy in HER2-positive breast cancer</td><td>2017/11/18 06:00</td></tr><tr><th>15</th><td>29142182</td><td>A Real-World Retrospective Cohort Study of Combined Therapy with Bevacizumab and </td><td>2017/11/17 06:00</td></tr><tr><th>16</th><td>29141352</td><td>[Overdiagnosis in mammography screening for breast cancer].</td><td>2017/11/17 06:00</td></tr><tr><th>17</th><td>29131529</td><td>Clinicopathological characteristics and survival outcomes in pleomorphic lobular </td><td>2017/11/14 06:00</td></tr><tr><th>18</th><td>29109121</td><td>Glycogen Synthase Kinase-3 Modulates Cbl-b and Constrains T Cell Activation.</td><td>2017/11/08 06:00</td></tr><tr><th>19</th><td>29100193</td><td>Phase II, multicentre, randomised trial of eribulin plus gemcitabine versus</td><td>2017/11/04 06:00</td></tr><tr><th>20</th><td>29096156</td><td>Recurrence dynamics of breast cancer according to baseline body mass index.</td><td>2017/11/03 06:00</td></tr><tr><th>21</th><td>29096155</td><td>The use of sentinel lymph node biopsy in the treatment of breast ductal carcinoma</td><td>2017/11/03 06:00</td></tr><tr><th>22</th><td>29095832</td><td>Multi-center study on patient selection for and the oncologic safety of</td><td>2017/11/03 06:00</td></tr><tr><th>23</th><td>29055841</td><td>Response rate as a potential surrogate for survival and efficacy in patients</td><td>2017/10/23 06:00</td></tr><tr><th>24</th><td>29049205</td><td>Using a novel T-lymph node ratio model to evaluate the prognosis of nonmetastatic</td><td>2017/10/20 06:00</td></tr><tr><th>25</th><td>28985233</td><td>Frequency of breast cancer with hereditary risk features in Spain: Analysis from </td><td>2017/10/07 06:00</td></tr><tr><th>26</th><td>28980454</td><td>Incidence, risk factors, and outcomes of central venous catheter-related</td><td>2017/10/06 06:00</td></tr><tr><th>27</th><td>28972651</td><td>Breast cancer statistics, 2017, racial disparity in mortality by state.</td><td>2017/10/04 06:00</td></tr><tr><th>28</th><td>28964442</td><td>Evaluation of a Stratified National Breast Screening Program in the United</td><td>2017/10/02 06:00</td></tr><tr><th>29</th><td>28943434</td><td>The role and clinical significance of the CXCL17-CXCR8 (GPR35) axis in breast</td><td>2017/09/26 06:00</td></tr><tr><th>30</th><td>28923573</td><td>Neoadjuvant buparlisib plus trastuzumab and paclitaxel for women with HER2+</td><td>2017/09/20 06:00</td></tr><tr><th>&vellip;</th><td>&vellip;</td><td>&vellip;</td><td>&vellip;</td></tr></tbody></table>"
      ],
      "text/plain": [
       "1000×3 DataFrames.DataFrame\n",
       "│ Row  │ pmid       │\n",
       "├──────┼────────────┤\n",
       "│ 1    │ \"29491085\" │\n",
       "│ 2    │ \"29414804\" │\n",
       "│ 3    │ \"29414799\" │\n",
       "│ 4    │ \"29407962\" │\n",
       "│ 5    │ \"29390317\" │\n",
       "│ 6    │ \"29335206\" │\n",
       "│ 7    │ \"29205077\" │\n",
       "│ 8    │ \"29202630\" │\n",
       "│ 9    │ \"29202611\" │\n",
       "│ 10   │ \"29202609\" │\n",
       "│ 11   │ \"29168407\" │\n",
       "⋮\n",
       "│ 989  │ \"24816206\" │\n",
       "│ 990  │ \"24803582\" │\n",
       "│ 991  │ \"24794952\" │\n",
       "│ 992  │ \"24781973\" │\n",
       "│ 993  │ \"24775119\" │\n",
       "│ 994  │ \"24768477\" │\n",
       "│ 995  │ \"24766915\" │\n",
       "│ 996  │ \"24755770\" │\n",
       "│ 997  │ \"24755492\" │\n",
       "│ 998  │ \"24733796\" │\n",
       "│ 999  │ \"24731492\" │\n",
       "│ 1000 │ \"24731491\" │\n",
       "\n",
       "│ Row  │ title                                                                               │\n",
       "├──────┼─────────────────────────────────────────────────────────────────────────────────────┤\n",
       "│ 1    │ \"The Prognostic Significance of Hsp70/Hsp90 Expression in Breast Cancer: A\"         │\n",
       "│ 2    │ \"MicroRNA-223 Targeting STIM1 Inhibits the Biological Behavior of Breast Cancer.\"   │\n",
       "│ 3    │ \"Berberine Suppresses Cell Motility Through Downregulation of TGF-beta1 in Triple \" │\n",
       "│ 4    │ \"Discovery of novel mifepristone derivatives via suppressing KLF5 expression for\"   │\n",
       "│ 5    │ \"Comparison of rigid and deformable registration through the respiratory phases of\" │\n",
       "│ 6    │ \"Synthesis and biological evaluation of 4-amino-5-cinnamoylthiazoles as\"            │\n",
       "│ 7    │ \"Forty years of landmark trials undertaken by the Danish Breast Cancer Cooperative\" │\n",
       "│ 8    │ \"Concurrent new drug prescriptions and prognosis of early breast cancer: studies\"   │\n",
       "│ 9    │ \"Aurora kinase A as a possible marker for endocrine resistance in early estrogen\"   │\n",
       "│ 10   │ \"The ability of PAM50 risk of recurrence score to predict 10-year distant\"          │\n",
       "│ 11   │ \"Mortality and recurrence rates among systemically untreated high risk breast\"      │\n",
       "⋮\n",
       "│ 989  │ \"Mammographic density phenotypes and risk of breast cancer: a meta-analysis.\"       │\n",
       "│ 990  │ \"TP53 mutation spectrum in breast cancer is subtype specific and has distinct\"      │\n",
       "│ 991  │ \"Assessment of the Ki67 labeling index: a Japanese validation ring study.\"          │\n",
       "│ 992  │ \"The endoplasmic reticulum stress markers GRP78 and CHOP predict disease-free\"      │\n",
       "│ 993  │ \"Nipple-sparing mastectomy with implant reconstruction: the Westmead experience.\"   │\n",
       "│ 994  │ \"Prognostic, predictive abilities and concordance of BCL2 and TP53 protein\"         │\n",
       "│ 995  │ \"Round block technique is a useful oncoplastic procedure for multicentric\"          │\n",
       "│ 996  │ \"Homogenous 96-plex PEA immunoassay exhibiting high sensitivity, specificity, and \" │\n",
       "│ 997  │ \"Risk factors for ovarian cancers with and without microsatellite instability.\"     │\n",
       "│ 998  │ \"Phase IIa trial of trastuzumab emtansine with pertuzumab for patients with human \" │\n",
       "│ 999  │ \"[Clinical observations of ductal carcinoma in situ and early stage breast cancer \" │\n",
       "│ 1000 │ \"[Prediction value for dynamic changes of circulating tumor cell in therapeutic\"    │\n",
       "\n",
       "│ Row  │ date_created       │\n",
       "├──────┼────────────────────┤\n",
       "│ 1    │ \"2018/03/02 06:00\" │\n",
       "│ 2    │ \"2018/02/08 06:00\" │\n",
       "│ 3    │ \"2018/02/08 06:00\" │\n",
       "│ 4    │ \"2018/02/07 06:00\" │\n",
       "│ 5    │ \"2018/02/03 06:00\" │\n",
       "│ 6    │ \"2018/01/17 06:00\" │\n",
       "│ 7    │ \"2017/12/06 06:00\" │\n",
       "│ 8    │ \"2017/12/06 06:00\" │\n",
       "│ 9    │ \"2017/12/06 06:00\" │\n",
       "│ 10   │ \"2017/12/06 06:00\" │\n",
       "│ 11   │ \"2017/11/24 06:00\" │\n",
       "⋮\n",
       "│ 989  │ \"2014/05/13 06:00\" │\n",
       "│ 990  │ \"2014/05/08 06:00\" │\n",
       "│ 991  │ \"2014/05/06 06:00\" │\n",
       "│ 992  │ \"2014/05/01 06:00\" │\n",
       "│ 993  │ \"2014/04/30 06:00\" │\n",
       "│ 994  │ \"2014/04/29 06:00\" │\n",
       "│ 995  │ \"2014/04/29 06:00\" │\n",
       "│ 996  │ \"2014/04/24 06:00\" │\n",
       "│ 997  │ \"2014/04/24 06:00\" │\n",
       "│ 998  │ \"2014/04/16 06:00\" │\n",
       "│ 999  │ \"2014/04/16 06:00\" │\n",
       "│ 1000 │ \"2014/04/16 06:00\" │"
      ]
     },
     "execution_count": 37,
     "metadata": {},
     "output_type": "execute_result"
    }
   ],
   "source": [
    "# add all packages here\n",
    "using DataFrames\n",
    "\n",
    "# Add all custom functions here\n",
    "include(\"fetch-articles.jl\")\n"
   ]
  },
  {
   "cell_type": "markdown",
   "metadata": {},
   "source": [
    "## Analysis\n",
    "Text mining can be used to discover these knowledge patterns or hypotheses in helping to solve biomedical questions. We will perform 3 analysis i.e on treatment, diagnosis and prevention"
   ]
  },
  {
   "cell_type": "markdown",
   "metadata": {},
   "source": [
    "### Diagnosis\n",
    "Starting with diagnosis for the year 2000 to  2018"
   ]
  },
  {
   "cell_type": "code",
   "execution_count": 34,
   "metadata": {},
   "outputs": [
    {
     "name": "stdout",
     "output_type": "stream",
     "text": [
      " 19.097224 seconds (513.16 k allocations: 54.971 MiB, 0.04% gc time)\n"
     ]
    },
    {
     "data": {
      "text/html": [
       "<table class=\"data-frame\"><thead><tr><th></th><th>pmid</th><th>title</th></tr></thead><tbody><tr><th>1</th><td>29491085</td><td>The Prognostic Significance of Hsp70/Hsp90 Expression in Breast Cancer: A</td></tr><tr><th>2</th><td>29414804</td><td>MicroRNA-223 Targeting STIM1 Inhibits the Biological Behavior of Breast Cancer.</td></tr><tr><th>3</th><td>29414799</td><td>Berberine Suppresses Cell Motility Through Downregulation of TGF-beta1 in Triple </td></tr><tr><th>4</th><td>29407962</td><td>Discovery of novel mifepristone derivatives via suppressing KLF5 expression for</td></tr><tr><th>5</th><td>29390317</td><td>Comparison of rigid and deformable registration through the respiratory phases of</td></tr><tr><th>6</th><td>29335206</td><td>Synthesis and biological evaluation of 4-amino-5-cinnamoylthiazoles as</td></tr><tr><th>7</th><td>29205077</td><td>Forty years of landmark trials undertaken by the Danish Breast Cancer Cooperative</td></tr><tr><th>8</th><td>29202630</td><td>Concurrent new drug prescriptions and prognosis of early breast cancer: studies</td></tr><tr><th>9</th><td>29202611</td><td>Aurora kinase A as a possible marker for endocrine resistance in early estrogen</td></tr><tr><th>10</th><td>29202609</td><td>The ability of PAM50 risk of recurrence score to predict 10-year distant</td></tr><tr><th>11</th><td>29168407</td><td>Mortality and recurrence rates among systemically untreated high risk breast</td></tr><tr><th>12</th><td>29164974</td><td>Clinical and molecular characterization of BRCA-associated breast cancer: results</td></tr><tr><th>13</th><td>29164972</td><td>Molecular subtyping of breast cancer improves identification of both high and low</td></tr><tr><th>14</th><td>29146401</td><td>Neratinib after trastuzumab-based adjuvant therapy in HER2-positive breast cancer</td></tr><tr><th>15</th><td>29142182</td><td>A Real-World Retrospective Cohort Study of Combined Therapy with Bevacizumab and </td></tr><tr><th>16</th><td>29141352</td><td>[Overdiagnosis in mammography screening for breast cancer].</td></tr><tr><th>17</th><td>29131529</td><td>Clinicopathological characteristics and survival outcomes in pleomorphic lobular </td></tr><tr><th>18</th><td>29109121</td><td>Glycogen Synthase Kinase-3 Modulates Cbl-b and Constrains T Cell Activation.</td></tr><tr><th>19</th><td>29100193</td><td>Phase II, multicentre, randomised trial of eribulin plus gemcitabine versus</td></tr><tr><th>20</th><td>29096156</td><td>Recurrence dynamics of breast cancer according to baseline body mass index.</td></tr><tr><th>21</th><td>29096155</td><td>The use of sentinel lymph node biopsy in the treatment of breast ductal carcinoma</td></tr><tr><th>22</th><td>29095832</td><td>Multi-center study on patient selection for and the oncologic safety of</td></tr><tr><th>23</th><td>29055841</td><td>Response rate as a potential surrogate for survival and efficacy in patients</td></tr><tr><th>24</th><td>29049205</td><td>Using a novel T-lymph node ratio model to evaluate the prognosis of nonmetastatic</td></tr><tr><th>25</th><td>28985233</td><td>Frequency of breast cancer with hereditary risk features in Spain: Analysis from </td></tr><tr><th>26</th><td>28980454</td><td>Incidence, risk factors, and outcomes of central venous catheter-related</td></tr><tr><th>27</th><td>28972651</td><td>Breast cancer statistics, 2017, racial disparity in mortality by state.</td></tr><tr><th>28</th><td>28964442</td><td>Evaluation of a Stratified National Breast Screening Program in the United</td></tr><tr><th>29</th><td>28943434</td><td>The role and clinical significance of the CXCL17-CXCR8 (GPR35) axis in breast</td></tr><tr><th>30</th><td>28923573</td><td>Neoadjuvant buparlisib plus trastuzumab and paclitaxel for women with HER2+</td></tr><tr><th>&vellip;</th><td>&vellip;</td><td>&vellip;</td></tr></tbody></table>"
      ],
      "text/plain": [
       "1000×2 DataFrames.DataFrame\n",
       "│ Row  │ pmid       │\n",
       "├──────┼────────────┤\n",
       "│ 1    │ \"29491085\" │\n",
       "│ 2    │ \"29414804\" │\n",
       "│ 3    │ \"29414799\" │\n",
       "│ 4    │ \"29407962\" │\n",
       "│ 5    │ \"29390317\" │\n",
       "│ 6    │ \"29335206\" │\n",
       "│ 7    │ \"29205077\" │\n",
       "│ 8    │ \"29202630\" │\n",
       "│ 9    │ \"29202611\" │\n",
       "│ 10   │ \"29202609\" │\n",
       "│ 11   │ \"29168407\" │\n",
       "⋮\n",
       "│ 989  │ \"24816206\" │\n",
       "│ 990  │ \"24803582\" │\n",
       "│ 991  │ \"24794952\" │\n",
       "│ 992  │ \"24781973\" │\n",
       "│ 993  │ \"24775119\" │\n",
       "│ 994  │ \"24768477\" │\n",
       "│ 995  │ \"24766915\" │\n",
       "│ 996  │ \"24755770\" │\n",
       "│ 997  │ \"24755492\" │\n",
       "│ 998  │ \"24733796\" │\n",
       "│ 999  │ \"24731492\" │\n",
       "│ 1000 │ \"24731491\" │\n",
       "\n",
       "│ Row  │ title                                                                               │\n",
       "├──────┼─────────────────────────────────────────────────────────────────────────────────────┤\n",
       "│ 1    │ \"The Prognostic Significance of Hsp70/Hsp90 Expression in Breast Cancer: A\"         │\n",
       "│ 2    │ \"MicroRNA-223 Targeting STIM1 Inhibits the Biological Behavior of Breast Cancer.\"   │\n",
       "│ 3    │ \"Berberine Suppresses Cell Motility Through Downregulation of TGF-beta1 in Triple \" │\n",
       "│ 4    │ \"Discovery of novel mifepristone derivatives via suppressing KLF5 expression for\"   │\n",
       "│ 5    │ \"Comparison of rigid and deformable registration through the respiratory phases of\" │\n",
       "│ 6    │ \"Synthesis and biological evaluation of 4-amino-5-cinnamoylthiazoles as\"            │\n",
       "│ 7    │ \"Forty years of landmark trials undertaken by the Danish Breast Cancer Cooperative\" │\n",
       "│ 8    │ \"Concurrent new drug prescriptions and prognosis of early breast cancer: studies\"   │\n",
       "│ 9    │ \"Aurora kinase A as a possible marker for endocrine resistance in early estrogen\"   │\n",
       "│ 10   │ \"The ability of PAM50 risk of recurrence score to predict 10-year distant\"          │\n",
       "│ 11   │ \"Mortality and recurrence rates among systemically untreated high risk breast\"      │\n",
       "⋮\n",
       "│ 989  │ \"Mammographic density phenotypes and risk of breast cancer: a meta-analysis.\"       │\n",
       "│ 990  │ \"TP53 mutation spectrum in breast cancer is subtype specific and has distinct\"      │\n",
       "│ 991  │ \"Assessment of the Ki67 labeling index: a Japanese validation ring study.\"          │\n",
       "│ 992  │ \"The endoplasmic reticulum stress markers GRP78 and CHOP predict disease-free\"      │\n",
       "│ 993  │ \"Nipple-sparing mastectomy with implant reconstruction: the Westmead experience.\"   │\n",
       "│ 994  │ \"Prognostic, predictive abilities and concordance of BCL2 and TP53 protein\"         │\n",
       "│ 995  │ \"Round block technique is a useful oncoplastic procedure for multicentric\"          │\n",
       "│ 996  │ \"Homogenous 96-plex PEA immunoassay exhibiting high sensitivity, specificity, and \" │\n",
       "│ 997  │ \"Risk factors for ovarian cancers with and without microsatellite instability.\"     │\n",
       "│ 998  │ \"Phase IIa trial of trastuzumab emtansine with pertuzumab for patients with human \" │\n",
       "│ 999  │ \"[Clinical observations of ductal carcinoma in situ and early stage breast cancer \" │\n",
       "│ 1000 │ \"[Prediction value for dynamic changes of circulating tumor cell in therapeutic\"    │"
      ]
     },
     "execution_count": 34,
     "metadata": {},
     "output_type": "execute_result"
    }
   ],
   "source": [
    "# diagnosis for the year 2000 to  2018\n",
    "diagnosis_metadata_df= @time fetchBreastCancerArticles(\"breast cancer\", \"diagnosis\",2000,2018)\n"
   ]
  },
  {
   "cell_type": "markdown",
   "metadata": {},
   "source": [
    "### Treatment"
   ]
  },
  {
   "cell_type": "code",
   "execution_count": 36,
   "metadata": {},
   "outputs": [
    {
     "data": {
      "text/html": [
       "<table class=\"data-frame\"><thead><tr><th></th><th>pmid</th><th>title</th></tr></thead><tbody></tbody></table>"
      ],
      "text/plain": [
       "0×2 DataFrames.DataFrame\n"
      ]
     },
     "execution_count": 36,
     "metadata": {},
     "output_type": "execute_result"
    }
   ],
   "source": [
    "# Treatment\n",
    "treatment_metadata_df=fetchBreastCancerArticles(\"breast cancer\", \"treatment\",2000,2018)"
   ]
  }
 ],
 "metadata": {
  "kernelspec": {
   "display_name": "Julia 0.6.2",
   "language": "julia",
   "name": "julia-0.6"
  },
  "language_info": {
   "file_extension": ".jl",
   "mimetype": "application/julia",
   "name": "julia",
   "version": "0.6.2"
  }
 },
 "nbformat": 4,
 "nbformat_minor": 2
}
